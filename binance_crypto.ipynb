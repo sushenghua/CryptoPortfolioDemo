{
 "cells": [
  {
   "cell_type": "code",
   "execution_count": 1,
   "id": "aac1e5d0-9206-4477-be29-13c57accc653",
   "metadata": {},
   "outputs": [],
   "source": [
    "import crypto_portfolio as cp\n",
    "%load_ext autoreload\n",
    "%autoreload 2\n",
    "%matplotlib inline"
   ]
  },
  {
   "cell_type": "markdown",
   "id": "26f820e9-adbf-44c1-b93b-4d046c880a08",
   "metadata": {},
   "source": [
    "### 2 years - 30-day crypto historical data analysis"
   ]
  },
  {
   "cell_type": "code",
   "execution_count": null,
   "id": "c174f012-cea7-4a4e-b28c-33e8af66b98f",
   "metadata": {},
   "outputs": [],
   "source": [
    "tradepairs = ['BTCUSDT', 'ETHUSDT', 'EOSUSDT', 'DOGEUSDT']\n",
    "cp.historical_tradedata_analysis(tradepairs, '2 year ago', interval='1d',\n",
    "                                 period_info={'name':'30 Day', 'intervals':30})"
   ]
  },
  {
   "cell_type": "markdown",
   "id": "2ac1d882-7d46-4284-84c2-082802934cb6",
   "metadata": {},
   "source": [
    "### 30 days - daily crypto historical data analysis"
   ]
  },
  {
   "cell_type": "code",
   "execution_count": null,
   "id": "1bec6fd0-68fe-41ac-a082-0c2654b7ad59",
   "metadata": {},
   "outputs": [],
   "source": [
    "tradepairs = ['BTCUSDT', 'ETHUSDT', 'EOSUSDT', 'DOGEUSDT']\n",
    "cp.historical_tradedata_analysis(tradepairs, '30 day ago', interval='1h',\n",
    "                                 period_info={'name':'Daily', 'intervals':24})"
   ]
  }
 ],
 "metadata": {
  "kernelspec": {
   "display_name": "Python 3",
   "language": "python",
   "name": "python3"
  },
  "language_info": {
   "codemirror_mode": {
    "name": "ipython",
    "version": 3
   },
   "file_extension": ".py",
   "mimetype": "text/x-python",
   "name": "python",
   "nbconvert_exporter": "python",
   "pygments_lexer": "ipython3",
   "version": "3.8.5"
  }
 },
 "nbformat": 4,
 "nbformat_minor": 5
}
