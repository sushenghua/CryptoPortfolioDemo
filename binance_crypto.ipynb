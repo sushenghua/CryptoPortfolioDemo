{
 "cells": [
  {
   "cell_type": "code",
   "execution_count": 1,
   "id": "aac1e5d0-9206-4477-be29-13c57accc653",
   "metadata": {},
   "outputs": [],
   "source": [
    "import crypto_portfolio as cp\n",
    "%load_ext autoreload\n",
    "%autoreload 2\n",
    "%matplotlib inline"
   ]
  },
  {
   "cell_type": "markdown",
   "id": "26f820e9-adbf-44c1-b93b-4d046c880a08",
   "metadata": {},
   "source": [
    "### 2 years - 30-day crypto historical data analysis"
   ]
  },
  {
   "cell_type": "code",
   "execution_count": null,
   "id": "c174f012-cea7-4a4e-b28c-33e8af66b98f",
   "metadata": {},
   "outputs": [],
   "source": [
    "tradepairs = ['BTCUSDT', 'ETHUSDT', 'EOSUSDT', 'DOGEUSDT']\n",
    "plotlist=['corr_map', 'price', 'ret', 'vol','sr',\n",
    "          'peak', 'wealth', 'drawdown','ef', 'msr_struct', 'gmv_struct']\n",
    "plotlist=['ef', 'msr_struct', 'gmv_struct']\n",
    "cp.historical_tradedata_analysis(tradepairs, '2 year ago', interval='1d',\n",
    "                                 period_info={'name':'30 Day', 'intervals':30},\n",
    "                                 plotlist=plotlist)"
   ]
  },
  {
   "cell_type": "markdown",
   "id": "2ac1d882-7d46-4284-84c2-082802934cb6",
   "metadata": {},
   "source": [
    "### 30 days - daily crypto historical data analysis"
   ]
  },
  {
   "cell_type": "code",
   "execution_count": null,
   "id": "1bec6fd0-68fe-41ac-a082-0c2654b7ad59",
   "metadata": {},
   "outputs": [],
   "source": [
    "tradepairs = ['BTCUSDT', 'ETHUSDT', 'EOSUSDT', 'DOGEUSDT', 'BNBUSDT']\n",
    "plotlist=['corr_map', 'price', 'ret', 'vol','sr',\n",
    "          'peak', 'wealth', 'drawdown','ef', 'msr_struct', 'gmv_struct']\n",
    "plotlist=['ef', 'msr_struct', 'gmv_struct']\n",
    "cp.historical_tradedata_analysis(tradepairs, '30 day ago', interval='1h',\n",
    "                                 period_info={'name':'Daily', 'intervals':24},\n",
    "                                 plotlist=plotlist)"
   ]
  },
  {
   "cell_type": "markdown",
   "id": "ac4ebcaa-420a-49bd-96c8-cbebb6239df0",
   "metadata": {},
   "source": [
    "### 7 days - daily crypto historical data analysis"
   ]
  },
  {
   "cell_type": "code",
   "execution_count": null,
   "id": "56b340f4-7fd1-4dcb-8fd7-3b1dd12d91db",
   "metadata": {},
   "outputs": [],
   "source": [
    "tradepairs = ['BTCUSDT', 'ETHUSDT', 'EOSUSDT', 'DOGEUSDT']\n",
    "plotlist=['corr_map', 'price', 'ret', 'vol','sr',\n",
    "          'peak', 'wealth', 'drawdown','ef', 'msr_struct', 'gmv_struct']\n",
    "plotlist=['ef', 'msr_struct', 'gmv_struct']\n",
    "cp.historical_tradedata_analysis(tradepairs, '7 day ago', interval='1h',\n",
    "                                 period_info={'name':'Daily', 'intervals':24},\n",
    "                                 plotlist=plotlist)"
   ]
  },
  {
   "cell_type": "markdown",
   "id": "80042502-99b6-4bdf-8fc6-f1af122422f8",
   "metadata": {},
   "source": [
    "### 1 day - hourly crypto historical data analysis"
   ]
  },
  {
   "cell_type": "code",
   "execution_count": null,
   "id": "3c4e3038-83d6-401c-a4f8-a237e3f96430",
   "metadata": {},
   "outputs": [],
   "source": [
    "tradepairs = ['BTCUSDT', 'ETHUSDT', 'EOSUSDT', 'DOGEUSDT', 'BNBUSDT']\n",
    "plotlist=['corr_map', 'price', 'ret', 'vol','sr',\n",
    "          'peak', 'wealth', 'drawdown','ef', 'msr_struct', 'gmv_struct']\n",
    "plotlist=['ef', 'msr_struct', 'gmv_struct']\n",
    "cp.historical_tradedata_analysis(tradepairs, '1 day ago', interval='1m',\n",
    "                                 period_info={'name':'Hourly', 'intervals':60},\n",
    "                                 plotlist=plotlist)"
   ]
  },
  {
   "cell_type": "markdown",
   "id": "86610f46-82ac-48f6-a0f1-15e025c88424",
   "metadata": {},
   "source": [
    "### 1 hour - minute crypto historical data analysis"
   ]
  },
  {
   "cell_type": "code",
   "execution_count": null,
   "id": "8ebabe97-25ad-4f84-9d0c-179cf6122c9e",
   "metadata": {},
   "outputs": [],
   "source": [
    "tradepairs = ['BTCUSDT', 'ETHUSDT', 'EOSUSDT', 'DOGEUSDT', 'BNBUSDT']\n",
    "plotlist=['corr_map', 'price', 'ret', 'vol','sr',\n",
    "          'peak', 'wealth', 'drawdown','ef', 'msr_struct', 'gmv_struct']\n",
    "plotlist=['ef', 'msr_struct', 'gmv_struct']\n",
    "cp.historical_tradedata_analysis(tradepairs, '1 hour ago', interval='1m',\n",
    "                                 period_info={'name':'Minute', 'intervals':1},\n",
    "                                 plotlist=plotlist)"
   ]
  },
  {
   "cell_type": "code",
   "execution_count": null,
   "id": "544f13d4-ccb7-471d-8e2e-2533ccc16b54",
   "metadata": {},
   "outputs": [],
   "source": []
  }
 ],
 "metadata": {
  "kernelspec": {
   "display_name": "Python 3",
   "language": "python",
   "name": "python3"
  },
  "language_info": {
   "codemirror_mode": {
    "name": "ipython",
    "version": 3
   },
   "file_extension": ".py",
   "mimetype": "text/x-python",
   "name": "python",
   "nbconvert_exporter": "python",
   "pygments_lexer": "ipython3",
   "version": "3.8.5"
  }
 },
 "nbformat": 4,
 "nbformat_minor": 5
}
