{
 "cells": [
  {
   "cell_type": "code",
   "execution_count": 1,
   "id": "aac1e5d0-9206-4477-be29-13c57accc653",
   "metadata": {},
   "outputs": [],
   "source": [
    "import numpy as np\n",
    "import pandas as pd\n",
    "import matplotlib.pyplot as plt\n",
    "from Binance import BinanceClient as client\n",
    "import Stats as sts\n",
    "%load_ext autoreload\n",
    "%autoreload 2\n",
    "%matplotlib inline"
   ]
  },
  {
   "cell_type": "code",
   "execution_count": 2,
   "id": "1b9b18f5-57f1-465c-a7db-0d5d9408fcaa",
   "metadata": {},
   "outputs": [
    {
     "data": {
      "text/html": [
       "<div>\n",
       "<style scoped>\n",
       "    .dataframe tbody tr th:only-of-type {\n",
       "        vertical-align: middle;\n",
       "    }\n",
       "\n",
       "    .dataframe tbody tr th {\n",
       "        vertical-align: top;\n",
       "    }\n",
       "\n",
       "    .dataframe thead th {\n",
       "        text-align: right;\n",
       "    }\n",
       "</style>\n",
       "<table border=\"1\" class=\"dataframe\">\n",
       "  <thead>\n",
       "    <tr style=\"text-align: right;\">\n",
       "      <th></th>\n",
       "      <th>EOS</th>\n",
       "      <th>BNB</th>\n",
       "      <th>BTC</th>\n",
       "    </tr>\n",
       "    <tr>\n",
       "      <th>CloseTime</th>\n",
       "      <th></th>\n",
       "      <th></th>\n",
       "      <th></th>\n",
       "    </tr>\n",
       "  </thead>\n",
       "  <tbody>\n",
       "    <tr>\n",
       "      <th>2021-04-13 17:06:59.999000064+08:00</th>\n",
       "      <td>6.7445</td>\n",
       "      <td>539.0032</td>\n",
       "      <td>62616.50</td>\n",
       "    </tr>\n",
       "    <tr>\n",
       "      <th>2021-04-13 17:07:59.999000064+08:00</th>\n",
       "      <td>6.7622</td>\n",
       "      <td>536.8604</td>\n",
       "      <td>62565.11</td>\n",
       "    </tr>\n",
       "    <tr>\n",
       "      <th>2021-04-13 17:08:59.999000064+08:00</th>\n",
       "      <td>6.7594</td>\n",
       "      <td>540.2997</td>\n",
       "      <td>62571.75</td>\n",
       "    </tr>\n",
       "    <tr>\n",
       "      <th>2021-04-13 17:09:59.999000064+08:00</th>\n",
       "      <td>6.7549</td>\n",
       "      <td>541.1076</td>\n",
       "      <td>62627.78</td>\n",
       "    </tr>\n",
       "    <tr>\n",
       "      <th>2021-04-13 17:10:59.999000064+08:00</th>\n",
       "      <td>6.7544</td>\n",
       "      <td>540.8518</td>\n",
       "      <td>62660.48</td>\n",
       "    </tr>\n",
       "  </tbody>\n",
       "</table>\n",
       "</div>"
      ],
      "text/plain": [
       "                                        EOS       BNB       BTC\n",
       "CloseTime                                                      \n",
       "2021-04-13 17:06:59.999000064+08:00  6.7445  539.0032  62616.50\n",
       "2021-04-13 17:07:59.999000064+08:00  6.7622  536.8604  62565.11\n",
       "2021-04-13 17:08:59.999000064+08:00  6.7594  540.2997  62571.75\n",
       "2021-04-13 17:09:59.999000064+08:00  6.7549  541.1076  62627.78\n",
       "2021-04-13 17:10:59.999000064+08:00  6.7544  540.8518  62660.48"
      ]
     },
     "execution_count": 2,
     "metadata": {},
     "output_type": "execute_result"
    }
   ],
   "source": [
    "bc = client.instance()\n",
    "eosusdt = bc.get_kline_pd('EOSUSDT')\n",
    "eosusdt = eosusdt.set_index(['CloseTime'])\n",
    "btcusdt = bc.get_kline_pd('BTCUSDT')\n",
    "btcusdt = btcusdt.set_index(['CloseTime'])\n",
    "bnbusdt = bc.get_kline_pd('BNBUSDT')\n",
    "bnbusdt = bnbusdt.set_index(['CloseTime'])\n",
    "\n",
    "crypto = pd.DataFrame(\n",
    "    {\n",
    "        'EOS': eosusdt['Close'],\n",
    "        'BNB': bnbusdt['Close'],\n",
    "        'BTC': btcusdt['Close'],\n",
    "    },\n",
    "    index=eosusdt.index\n",
    ")\n",
    "crypto.tail()"
   ]
  },
  {
   "cell_type": "code",
   "execution_count": null,
   "id": "c4bf05d3-1d29-43c3-bdb0-62035ce9faf8",
   "metadata": {},
   "outputs": [],
   "source": [
    "# crypto = pd.concat([eosusdt.index, eosusdt['Close'], btcusdt['Close']],\n",
    "#                     axis=1)\n"
   ]
  },
  {
   "cell_type": "code",
   "execution_count": null,
   "id": "69fe5e98-7b40-43bb-bc8c-8471a3f19f26",
   "metadata": {},
   "outputs": [],
   "source": [
    "pd.concat([crypto.mean(), crypto.median(), crypto.mean()>crypto.median()], axis='columns')"
   ]
  },
  {
   "cell_type": "code",
   "execution_count": null,
   "id": "a2b74fc6-aa35-4f3e-9070-10b438e7fc52",
   "metadata": {},
   "outputs": [],
   "source": [
    "sts.skewness(crypto)"
   ]
  },
  {
   "cell_type": "code",
   "execution_count": null,
   "id": "495a78e7-09ff-4057-b277-60986fcdee42",
   "metadata": {},
   "outputs": [],
   "source": [
    "norm.skew(crypto)"
   ]
  },
  {
   "cell_type": "code",
   "execution_count": null,
   "id": "8648445c-9588-4eb7-a3d3-df479deda59c",
   "metadata": {},
   "outputs": [],
   "source": [
    "sts.kurtosis(crypto)"
   ]
  },
  {
   "cell_type": "code",
   "execution_count": null,
   "id": "2834abb8-c334-40fc-b5b2-7f7bd332f157",
   "metadata": {},
   "outputs": [],
   "source": [
    "norm.kurtosis(crypto)"
   ]
  },
  {
   "cell_type": "code",
   "execution_count": null,
   "id": "e918a56e-9fda-4044-a0fd-05de32c7943f",
   "metadata": {},
   "outputs": [],
   "source": [
    "norm.jarque_bera(crypto)"
   ]
  },
  {
   "cell_type": "code",
   "execution_count": null,
   "id": "92b8e4c6-e5f6-433d-b9c1-7818a0658695",
   "metadata": {},
   "outputs": [],
   "source": [
    "sts.is_normal(crypto['EOS'])"
   ]
  },
  {
   "cell_type": "code",
   "execution_count": null,
   "id": "b58eab09-5dd4-4994-a0bf-cd1fe45d59db",
   "metadata": {},
   "outputs": [],
   "source": [
    "sts.semideviation(crypto)"
   ]
  },
  {
   "cell_type": "code",
   "execution_count": null,
   "id": "bd0aed3e-3502-4b2d-9bba-abe291ea0106",
   "metadata": {},
   "outputs": [],
   "source": [
    "crypto.std(ddof=0)"
   ]
  },
  {
   "cell_type": "code",
   "execution_count": null,
   "id": "8d7fd36e-af05-4730-8d57-dfa783cbcf2e",
   "metadata": {},
   "outputs": [],
   "source": [
    "crypto['EOS'][crypto['EOS']>0].std(ddof=0)"
   ]
  },
  {
   "cell_type": "code",
   "execution_count": null,
   "id": "097c9004-20c6-4cb4-840b-293e8524dbd2",
   "metadata": {},
   "outputs": [],
   "source": [
    "sts.var_historic(crypto)"
   ]
  },
  {
   "cell_type": "code",
   "execution_count": null,
   "id": "17a73bdf-3618-408b-8dae-f38bdd582c63",
   "metadata": {},
   "outputs": [],
   "source": [
    "crypto['BTC'].plot()"
   ]
  },
  {
   "cell_type": "code",
   "execution_count": null,
   "id": "be6432ee-974f-4a99-bc46-0ffd7e340ebd",
   "metadata": {},
   "outputs": [],
   "source": [
    "np.percentile(crypto, 5, axis=0)"
   ]
  },
  {
   "cell_type": "code",
   "execution_count": null,
   "id": "b977ccf2-d639-415b-b3dd-c21c0e82952f",
   "metadata": {},
   "outputs": [],
   "source": [
    "import scipy.stats\n",
    "scipy.stats.norm.ppf(0.05)"
   ]
  },
  {
   "cell_type": "code",
   "execution_count": null,
   "id": "7e221de7-da96-464a-9f05-21f77f12af34",
   "metadata": {},
   "outputs": [],
   "source": [
    "sts.var_historic(crypto)"
   ]
  },
  {
   "cell_type": "code",
   "execution_count": null,
   "id": "fe745d36-dafc-4be1-bd06-b0cf36466fe7",
   "metadata": {},
   "outputs": [],
   "source": [
    "sts.var_gaussian(crypto)"
   ]
  },
  {
   "cell_type": "code",
   "execution_count": null,
   "id": "67d3e4ff-7256-4418-93d6-9d10ca604562",
   "metadata": {},
   "outputs": [],
   "source": [
    "sts.var_gaussian(crypto,True)"
   ]
  },
  {
   "cell_type": "code",
   "execution_count": null,
   "id": "384cc250-2ad6-4a1e-8888-ebbae4ba6980",
   "metadata": {},
   "outputs": [],
   "source": [
    "var_list = [sts.var_gaussian(crypto),\n",
    "            sts.var_gaussian(crypto, modified=True),\n",
    "            sts.var_historic(crypto)]\n",
    "comparison = pd.concat(var_list, axis=1)\n",
    "comparison.columns = ['Gaussian', 'Gornish-Fisher', 'Historic']\n",
    "comparison.loc[['EOS']].plot.bar(title='var')\n",
    "comparison.plot.bar()"
   ]
  },
  {
   "cell_type": "code",
   "execution_count": null,
   "id": "a5ee5eca-dacf-4822-9bfb-00dfe86b43d6",
   "metadata": {},
   "outputs": [],
   "source": [
    "crypto['BTC'].plot()"
   ]
  },
  {
   "cell_type": "code",
   "execution_count": null,
   "id": "2c693960-ff1b-4d23-9bb8-42b27783ea4e",
   "metadata": {},
   "outputs": [],
   "source": [
    "sts.cvar_historic(crypto)"
   ]
  },
  {
   "cell_type": "code",
   "execution_count": null,
   "id": "43c8f87b-1fb2-4b9f-90c2-1e3e1a1f84a8",
   "metadata": {},
   "outputs": [],
   "source": []
  }
 ],
 "metadata": {
  "kernelspec": {
   "display_name": "Python 3",
   "language": "python",
   "name": "python3"
  },
  "language_info": {
   "codemirror_mode": {
    "name": "ipython",
    "version": 3
   },
   "file_extension": ".py",
   "mimetype": "text/x-python",
   "name": "python",
   "nbconvert_exporter": "python",
   "pygments_lexer": "ipython3",
   "version": "3.8.5"
  }
 },
 "nbformat": 4,
 "nbformat_minor": 5
}
